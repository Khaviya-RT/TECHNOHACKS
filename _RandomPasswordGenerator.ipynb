{
 "cells": [
  {
   "cell_type": "code",
   "execution_count": 1,
   "id": "d93e2c7c-bc21-4186-8a7e-43b0c0200d1b",
   "metadata": {},
   "outputs": [
    {
     "name": "stdin",
     "output_type": "stream",
     "text": [
      "Enter the Number of the Characters that you need in the password :  3\n",
      "Enter the Number of the Numbers that you need in the password :  2\n",
      "Enter the Number of the Symbols that you need in the password :  1\n"
     ]
    },
    {
     "name": "stdout",
     "output_type": "stream",
     "text": [
      "The Randomly Generated Password is : 40*vLs\n"
     ]
    }
   ],
   "source": [
    "import random  \n",
    "  \n",
    "def password_generator(char_length, num_length, symbol_length):  \n",
    "\n",
    "  \n",
    "    chars = \"abcdefghijklmnopqrstuvwxyzABCDEFGHIJKLMNOPQRSTUVWXYZ\"  \n",
    "    nums = \"0123456789\"  \n",
    "    symbols = \"!@#$%^&*()\"  \n",
    "  \n",
    "  \n",
    "    selectedChars = random.sample(chars, char_length)  \n",
    "    selectedNums = random.sample(nums, num_length)  \n",
    "    selectedSymbols = random.sample(symbols, symbol_length)  \n",
    "  \n",
    "    password_list = selectedChars + selectedNums + selectedSymbols  \n",
    "  \n",
    "    random.shuffle(password_list)  \n",
    "  \n",
    "    password_str = \"\".join(password_list)  \n",
    "  \n",
    "    return password_str  \n",
    "  \n",
    "if __name__ == \"__main__\":  \n",
    "    char_length = int(input(\"Enter the Number of the Characters that you need in the password : \"))  \n",
    "    num_length = int(input(\"Enter the Number of the Numbers that you need in the password : \"))  \n",
    "    symbol_length = int(input(\"Enter the Number of the Symbols that you need in the password : \"))  \n",
    "  \n",
    " \n",
    "    password = password_generator(char_length, num_length, symbol_length)  \n",
    "  \n",
    "    print(\"The Randomly Generated Password is :\", password) "
   ]
  },
  {
   "cell_type": "code",
   "execution_count": null,
   "id": "85e524af-53b4-45f3-b004-2820597c727b",
   "metadata": {},
   "outputs": [],
   "source": []
  }
 ],
 "metadata": {
  "kernelspec": {
   "display_name": "Python 3 (ipykernel)",
   "language": "python",
   "name": "python3"
  },
  "language_info": {
   "codemirror_mode": {
    "name": "ipython",
    "version": 3
   },
   "file_extension": ".py",
   "mimetype": "text/x-python",
   "name": "python",
   "nbconvert_exporter": "python",
   "pygments_lexer": "ipython3",
   "version": "3.11.7"
  }
 },
 "nbformat": 4,
 "nbformat_minor": 5
}
