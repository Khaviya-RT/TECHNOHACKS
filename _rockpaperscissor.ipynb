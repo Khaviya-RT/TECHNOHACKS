{
 "cells": [
  {
   "cell_type": "code",
   "execution_count": 1,
   "id": "e8b27bc7-9c8d-420e-bdae-451c76af7b58",
   "metadata": {},
   "outputs": [
    {
     "name": "stdout",
     "output_type": "stream",
     "text": [
      "Welcome to Advanced Rock, Paper, Scissors!\n"
     ]
    },
    {
     "name": "stdin",
     "output_type": "stream",
     "text": [
      "Enter your name:  khaviya\n",
      "How many rounds would you like to play?  3\n",
      "Choose rock, paper, or scissors:  paper\n"
     ]
    },
    {
     "name": "stdout",
     "output_type": "stream",
     "text": [
      "khaviya chose paper. Computer chose paper.\n",
      "It's a tie!\n"
     ]
    },
    {
     "name": "stdin",
     "output_type": "stream",
     "text": [
      "Choose rock, paper, or scissors:  scissors\n"
     ]
    },
    {
     "name": "stdout",
     "output_type": "stream",
     "text": [
      "khaviya chose scissors. Computer chose rock.\n",
      "Computer wins!\n"
     ]
    },
    {
     "name": "stdin",
     "output_type": "stream",
     "text": [
      "Choose rock, paper, or scissors:  rock\n"
     ]
    },
    {
     "name": "stdout",
     "output_type": "stream",
     "text": [
      "khaviya chose rock. Computer chose scissors.\n",
      "You win!\n",
      "Round score - khaviya: 1, Computer: 1, Tied Rounds: 1\n",
      "Thanks for playing!\n"
     ]
    }
   ],
   "source": [
    "import random\n",
    "\n",
    "\n",
    "user_profiles = {}\n",
    "\n",
    "class Player:\n",
    "    def __init__(self, name):\n",
    "        self.name = name\n",
    "        self.score = 0\n",
    "\n",
    "    def __str__(self):\n",
    "        return f\"{self.name} ({self.score} points)\"\n",
    "\n",
    "def get_user_choice():\n",
    "    choices = [\"rock\", \"paper\", \"scissors\"]\n",
    "    while True:\n",
    "        user_choice = input(\"Choose rock, paper, or scissors: \").lower()\n",
    "        if user_choice in choices:\n",
    "            return user_choice\n",
    "        else:\n",
    "            print(\"Invalid choice. Please choose rock, paper, or scissors.\")\n",
    "\n",
    "def get_computer_choice():\n",
    "    return random.choice([\"rock\", \"paper\", \"scissors\"])\n",
    "\n",
    "def determine_winner(user_choice, computer_choice):\n",
    "    if user_choice == computer_choice:\n",
    "        return \"It's a tie!\"\n",
    "    elif (\n",
    "        (user_choice == \"rock\" and computer_choice == \"scissors\") or\n",
    "        (user_choice == \"paper\" and computer_choice == \"rock\") or\n",
    "        (user_choice == \"scissors\" and computer_choice == \"paper\")\n",
    "    ):\n",
    "        return \"You win!\"\n",
    "    else:\n",
    "        return \"Computer wins!\"\n",
    "\n",
    "def play_game():\n",
    "    print(\"Welcome to Advanced Rock, Paper, Scissors!\")\n",
    "    player_name = input(\"Enter your name: \")\n",
    "    \n",
    "    if player_name not in user_profiles:\n",
    "        user_profiles[player_name] = Player(player_name)\n",
    "    \n",
    "    player = user_profiles[player_name]\n",
    "    computer = Player(\"Computer\")\n",
    "    \n",
    "    rounds = int(input(\"How many rounds would you like to play? \"))\n",
    "    tied_rounds = 0\n",
    "    \n",
    "    for _ in range(rounds):\n",
    "        user_choice = get_user_choice()\n",
    "        computer_choice = get_computer_choice()\n",
    "        \n",
    "        print(f\"{player.name} chose {user_choice}. {computer.name} chose {computer_choice}.\")\n",
    "        \n",
    "        result = determine_winner(user_choice, computer_choice)\n",
    "        print(result)\n",
    "        \n",
    "        if result == \"You win!\":\n",
    "            player.score += 1\n",
    "        elif result == \"Computer wins!\":\n",
    "            computer.score += 1\n",
    "        else:\n",
    "            tied_rounds += 1\n",
    "    \n",
    "    print(f\"Round score - {player.name}: {player.score}, {computer.name}: {computer.score}, Tied Rounds: {tied_rounds}\")\n",
    "    print(\"Thanks for playing!\")\n",
    "\n",
    "if __name__ == \"__main__\":\n",
    "    play_game()"
   ]
  },
  {
   "cell_type": "code",
   "execution_count": null,
   "id": "520d23a0-4981-48f8-8aff-f7930ae53348",
   "metadata": {},
   "outputs": [],
   "source": []
  }
 ],
 "metadata": {
  "kernelspec": {
   "display_name": "Python 3 (ipykernel)",
   "language": "python",
   "name": "python3"
  },
  "language_info": {
   "codemirror_mode": {
    "name": "ipython",
    "version": 3
   },
   "file_extension": ".py",
   "mimetype": "text/x-python",
   "name": "python",
   "nbconvert_exporter": "python",
   "pygments_lexer": "ipython3",
   "version": "3.11.7"
  }
 },
 "nbformat": 4,
 "nbformat_minor": 5
}
