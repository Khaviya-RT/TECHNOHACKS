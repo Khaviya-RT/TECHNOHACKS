{
 "cells": [
  {
   "cell_type": "code",
   "execution_count": 1,
   "id": "c325740d-340e-4b00-ad2a-2b650ce02c0d",
   "metadata": {},
   "outputs": [
    {
     "name": "stdout",
     "output_type": "stream",
     "text": [
      "Welcome to Tic-Tac-Toe!\n",
      "  |   |  \n",
      "---------\n",
      "  |   |  \n",
      "---------\n",
      "  |   |  \n"
     ]
    },
    {
     "name": "stdin",
     "output_type": "stream",
     "text": [
      "Enter your move (1-9):  2\n"
     ]
    },
    {
     "name": "stdout",
     "output_type": "stream",
     "text": [
      "  | X |  \n",
      "---------\n",
      "  |   |  \n",
      "---------\n",
      "  |   |  \n",
      "O | X |  \n",
      "---------\n",
      "  |   |  \n",
      "---------\n",
      "  |   |  \n"
     ]
    },
    {
     "name": "stdin",
     "output_type": "stream",
     "text": [
      "Enter your move (1-9):  3\n"
     ]
    },
    {
     "name": "stdout",
     "output_type": "stream",
     "text": [
      "O | X | X\n",
      "---------\n",
      "  |   |  \n",
      "---------\n",
      "  |   |  \n",
      "O | X | X\n",
      "---------\n",
      "O |   |  \n",
      "---------\n",
      "  |   |  \n"
     ]
    },
    {
     "name": "stdin",
     "output_type": "stream",
     "text": [
      "Enter your move (1-9):  7\n"
     ]
    },
    {
     "name": "stdout",
     "output_type": "stream",
     "text": [
      "O | X | X\n",
      "---------\n",
      "O |   |  \n",
      "---------\n",
      "X |   |  \n",
      "O | X | X\n",
      "---------\n",
      "O | O |  \n",
      "---------\n",
      "X |   |  \n"
     ]
    },
    {
     "name": "stdin",
     "output_type": "stream",
     "text": [
      "Enter your move (1-9):  6\n"
     ]
    },
    {
     "name": "stdout",
     "output_type": "stream",
     "text": [
      "O | X | X\n",
      "---------\n",
      "O | O | X\n",
      "---------\n",
      "X |   |  \n",
      "O | X | X\n",
      "---------\n",
      "O | O | X\n",
      "---------\n",
      "X |   | O\n",
      "AI wins!\n",
      "Game over!\n"
     ]
    }
   ],
   "source": [
    "import random\n",
    "\n",
    "\n",
    "board = [\" \" for _ in range(9)]\n",
    "\n",
    "\n",
    "def print_board():\n",
    "    print(\" | \".join(board[:3]))\n",
    "    print(\"-\" * 9)\n",
    "    print(\" | \".join(board[3:6]))\n",
    "    print(\"-\" * 9)\n",
    "    print(\" | \".join(board[6:9]))\n",
    "\n",
    "\n",
    "def is_board_full():\n",
    "    return \" \" not in board\n",
    "\n",
    "\n",
    "def check_win(player):\n",
    "    win_patterns = [(0, 1, 2), (3, 4, 5), (6, 7, 8), (0, 3, 6), (1, 4, 7), (2, 5, 8), (0, 4, 8), (2, 4, 6)]\n",
    "    for pattern in win_patterns:\n",
    "        if all(board[i] == player for i in pattern):\n",
    "            return True\n",
    "    return False\n",
    "\n",
    "\n",
    "def make_move(player, position):\n",
    "    if board[position] == \" \":\n",
    "        board[position] = player\n",
    "        return True\n",
    "    return False\n",
    "\n",
    "\n",
    "def ai_move():\n",
    "    best_score = -float(\"inf\")\n",
    "    best_move = None\n",
    "\n",
    "    for i in range(9):\n",
    "        if board[i] == \" \":\n",
    "            board[i] = \"O\"\n",
    "            score = minimax(board, 0, False)\n",
    "            board[i] = \" \"\n",
    "\n",
    "            if score > best_score:\n",
    "                best_score = score\n",
    "                best_move = i\n",
    "\n",
    "    make_move(\"O\", best_move)\n",
    "\n",
    "\n",
    "def minimax(board, depth, is_maximizing):\n",
    "    if check_win(\"O\"):\n",
    "        return 1\n",
    "    if check_win(\"X\"):\n",
    "        return -1\n",
    "    if is_board_full():\n",
    "        return 0\n",
    "\n",
    "    if is_maximizing:\n",
    "        best_score = -float(\"inf\")\n",
    "        for i in range(9):\n",
    "            if board[i] == \" \":\n",
    "                board[i] = \"O\"\n",
    "                score = minimax(board, depth + 1, False)\n",
    "                board[i] = \" \"\n",
    "                best_score = max(score, best_score)\n",
    "        return best_score\n",
    "\n",
    "    else:\n",
    "        best_score = float(\"inf\")\n",
    "        for i in range(9):\n",
    "            if board[i] == \" \":\n",
    "                board[i] = \"X\"\n",
    "                score = minimax(board, depth + 1, True)\n",
    "                board[i] = \" \"\n",
    "                best_score = min(score, best_score)\n",
    "        return best_score\n",
    "\n",
    "\n",
    "def main():\n",
    "    print(\"Welcome to Tic-Tac-Toe!\")\n",
    "    print_board()\n",
    "\n",
    "    while True:\n",
    "        if not is_board_full():\n",
    "            player_position = int(input(\"Enter your move (1-9): \")) - 1\n",
    "            if player_position < 0 or player_position >= 9 or board[player_position] != \" \":\n",
    "                print(\"Invalid move. Try again.\")\n",
    "                continue\n",
    "            make_move(\"X\", player_position)\n",
    "            print_board()\n",
    "\n",
    "            if check_win(\"X\"):\n",
    "                print(\"You win!\")\n",
    "                break\n",
    "            if is_board_full():\n",
    "                print(\"It's a draw!\")\n",
    "                break\n",
    "\n",
    "        ai_move()\n",
    "        print_board()\n",
    "\n",
    "        if check_win(\"O\"):\n",
    "            print(\"AI wins!\")\n",
    "            break\n",
    "        if is_board_full():\n",
    "            print(\"It's a draw!\")\n",
    "            break\n",
    "\n",
    "    print(\"Game over!\")\n",
    "\n",
    "if __name__ == \"__main__\":\n",
    "    main()"
   ]
  },
  {
   "cell_type": "code",
   "execution_count": null,
   "id": "73f9cdf4-3e5f-468f-bd7c-943381680b5b",
   "metadata": {},
   "outputs": [],
   "source": []
  }
 ],
 "metadata": {
  "kernelspec": {
   "display_name": "Python 3 (ipykernel)",
   "language": "python",
   "name": "python3"
  },
  "language_info": {
   "codemirror_mode": {
    "name": "ipython",
    "version": 3
   },
   "file_extension": ".py",
   "mimetype": "text/x-python",
   "name": "python",
   "nbconvert_exporter": "python",
   "pygments_lexer": "ipython3",
   "version": "3.11.7"
  }
 },
 "nbformat": 4,
 "nbformat_minor": 5
}
